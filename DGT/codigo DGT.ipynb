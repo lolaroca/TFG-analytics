{
 "cells": [
  {
   "cell_type": "code",
   "execution_count": 1,
   "metadata": {},
   "outputs": [],
   "source": [
    "import pandas as pd"
   ]
  },
  {
   "cell_type": "code",
   "execution_count": 2,
   "metadata": {},
   "outputs": [],
   "source": [
    "#leemos los csv\n",
    "data2017 = pd.read_csv('DatosMunicipalesSiniestralidad_2017.csv', encoding=\"latin-1\", delimiter=';')\n",
    "data2018 = pd.read_csv('DatosMunicipalesSiniestralidad_2018.csv', encoding=\"latin-1\", delimiter=';')\n",
    "data2019 = pd.read_csv('DatosMunicipalesSiniestralidad_2019.csv', encoding=\"latin-1\", delimiter=';')\n",
    "data2020 = pd.read_csv('DatosMunicipalesSiniestralidad_2020.csv', encoding=\"latin-1\", delimiter=';')\n",
    "data2021 = pd.read_csv('DatosMunicipalesSiniestralidad_2021.csv', encoding=\"latin-1\", delimiter=';')\n",
    "data2022 = pd.read_csv('DatosMunicipalesSiniestralidad_2022.csv', encoding=\"latin-1\", delimiter=';')\n"
   ]
  },
  {
   "cell_type": "code",
   "execution_count": 3,
   "metadata": {},
   "outputs": [],
   "source": [
    "import pandas as pd\n",
    "\n",
    "def procesar_datos_geograficos(df, año):\n",
    "    # Añadir la columna de año\n",
    "    df[\"Año\"] = año\n",
    "\n",
    "    # Asegurar que Latitud y Longitud sean cadenas para poder reemplazar comas por puntos\n",
    "    df[\"Latitud\"] = df[\"Latitud\"].astype(str).str.replace(\",\", \".\")\n",
    "    df[\"Longitud\"] = df[\"Longitud\"].astype(str).str.replace(\",\", \".\")\n",
    "\n",
    "    # Convertir las cadenas modificadas a valores flotantes\n",
    "    df[\"Latitud\"] = df[\"Latitud\"].astype(float)\n",
    "    df[\"Longitud\"] = df[\"Longitud\"].astype(float)\n",
    "\n",
    "    # Eliminar filas donde la latitud o la longitud sean NaN\n",
    "    df.dropna(subset=[\"Latitud\", \"Longitud\"], inplace=True)\n",
    "    if 'N Accidentes con Victimas' in df.columns:\n",
    "        df.dropna(subset=[\"N Accidentes con Victimas\"], inplace=True)\n",
    "    \n",
    "    # Definir los límites de latitud y longitud para incluir toda España\n",
    "    lat_min, lat_max = 27.0, 44.0  # Extender el máximo hacia el norte para incluir todo\n",
    "    lon_min, lon_max = -18.0, 5.0  # Ajustar si es necesario para capturar todo el este\n",
    "\n",
    "    # Filtrar el DataFrame por latitud y longitud dentro de estos nuevos límites\n",
    "    df_filtrado = df[(df[\"Latitud\"] >= lat_min) & (df[\"Latitud\"] <= lat_max) &\n",
    "                    (df[\"Longitud\"] >= lon_min) & (df[\"Longitud\"] <= lon_max)]\n",
    "\n",
    "    \n",
    "\n",
    "    return df_filtrado\n"
   ]
  },
  {
   "cell_type": "code",
   "execution_count": 4,
   "metadata": {},
   "outputs": [],
   "source": [
    "df2019 = procesar_datos_geograficos(data2019, 2019)\n",
    "df2020 = procesar_datos_geograficos(data2020, 2020)\n",
    "df2018 = procesar_datos_geograficos(data2018, 2018)\n",
    "df2021 = procesar_datos_geograficos(data2021, 2021)\n",
    "df2022 = procesar_datos_geograficos(data2022, 2022)\n",
    "df2017 = procesar_datos_geograficos(data2017, 2017)\n",
    "\n"
   ]
  },
  {
   "cell_type": "code",
   "execution_count": 5,
   "metadata": {},
   "outputs": [
    {
     "data": {
      "text/html": [
       "\n",
       "        <iframe\n",
       "            width=\"100%\"\n",
       "            height=\"650\"\n",
       "            src=\"http://127.0.0.1:8050/\"\n",
       "            frameborder=\"0\"\n",
       "            allowfullscreen\n",
       "            \n",
       "        ></iframe>\n",
       "        "
      ],
      "text/plain": [
       "<IPython.lib.display.IFrame at 0x24258bc2630>"
      ]
     },
     "metadata": {},
     "output_type": "display_data"
    }
   ],
   "source": [
    "import dash\n",
    "from dash import dcc, html\n",
    "from dash.dependencies import Input, Output\n",
    "import folium\n",
    "import os\n",
    "\n",
    "# Asumiendo que las variables df2017, df2018, etc., están definidas previamente y disponibles\n",
    "\n",
    "app = dash.Dash(__name__)\n",
    "\n",
    "app.layout = html.Div([\n",
    "    html.H1(\"Mapa de Accidentes\"),\n",
    "    html.Label(\"Selecciona un año:\"),\n",
    "    dcc.Dropdown(\n",
    "        id='year-dropdown',\n",
    "        options=[\n",
    "            {'label': '2017', 'value': '2017'},\n",
    "            {'label': '2018', 'value': '2018'},\n",
    "            {'label': '2019', 'value': '2019'},\n",
    "            {'label': '2020', 'value': '2020'},\n",
    "            {'label': '2021', 'value': '2021'},\n",
    "            {'label': '2022', 'value': '2022'}\n",
    "        ],\n",
    "        value='2017'  # Valor inicial\n",
    "    ),\n",
    "    html.Div(id='map-container')\n",
    "])\n",
    "\n",
    "@app.callback(\n",
    "    Output('map-container', 'children'),\n",
    "    [Input('year-dropdown', 'value')]\n",
    ")\n",
    "def update_map(year):\n",
    "    df = globals().get(f'df{year}')\n",
    "    if df is None:\n",
    "        return \"No hay datos disponibles para este año.\"\n",
    "    \n",
    "    # Crea el mapa con folium\n",
    "    mapa = folium.Map(location=[40.4637, -3.7492], zoom_start=6)\n",
    "\n",
    "    # Añadir marcadores para cada punto de datos\n",
    "    for index, row in df.iterrows():\n",
    "        lat = float(row['Latitud'])  # Conversión explícita a float\n",
    "        lon = float(row['Longitud'])  # Conversión explícita a float\n",
    "        \n",
    "        if 'N Accidentes con Victimas' in df.columns:\n",
    "            num_accidents = float(row['N Accidentes con Victimas'])\n",
    "        else:\n",
    "            num_accidents = 0  # Set a default value if the column doesn't exist\n",
    "\n",
    "        # Añadir un marcador de círculo con un radio proporcional al número de accidentes\n",
    "        # Aumenta el factor de escala para hacer las burbujas más visibles\n",
    "        folium.CircleMarker(\n",
    "            location=[lat, lon],\n",
    "            radius=max(5, num_accidents / 5),  # Ajuste del factor de escala; garantiza un mínimo de radio para visibilidad\n",
    "            color='red',\n",
    "            fill=True,\n",
    "            fill_color='red',\n",
    "            fill_opacity=0.6,\n",
    "            popup=f\"Accidentes: {num_accidents}\"  # Opcional: añade un popup con info\n",
    "        ).add_to(mapa)\n",
    "    \n",
    "    # Guarda el mapa en un archivo HTML\n",
    "    map_path = 'temp_map.html'\n",
    "    mapa.save(map_path)\n",
    "\n",
    "    # Retorna un Iframe con el contenido del mapa\n",
    "    map_html = open(map_path, 'r', encoding='utf-8').read()\n",
    "    os.remove(map_path)  # Opcional: elimina el archivo después de leerlo\n",
    "    return html.Iframe(srcDoc=map_html, width='100%', height='600')\n",
    "\n",
    "if __name__ == '__main__':\n",
    "    app.run_server(debug=True)\n"
   ]
  },
  {
   "cell_type": "code",
   "execution_count": 6,
   "metadata": {},
   "outputs": [
    {
     "data": {
      "image/png": "[encoded data removed]",
      "text/plain": [
       "<Figure size 640x480 with 1 Axes>"
      ]
     },
     "metadata": {},
     "output_type": "display_data"
    }
   ],
   "source": [
    "import matplotlib.pyplot as plt\n",
    "\n",
    "# Create a list of years\n",
    "years = [2017, 2018, 2019, 2020, 2021, 2022]\n",
    "\n",
    "# Create empty lists to store the number of accidents and severities for each year\n",
    "num_accidents = []\n",
    "fallecidos_total = []\n",
    "heridos_graves_total = []\n",
    "heridos_leves_total = []\n",
    "\n",
    "# Iterate over the years and retrieve the corresponding dataframes\n",
    "for year in years:\n",
    "    df = globals().get(f'df{year}')\n",
    "    if df is not None:\n",
    "        num_accidents.append(len(df))\n",
    "        # Filter columns for each severity type\n",
    "        cols_fallecidos = df.columns[df.columns.str.contains('Fallecidos')]\n",
    "        cols_heridos_graves = df.columns[df.columns.str.contains('Heridos Graves')]\n",
    "        cols_heridos_leves = df.columns[df.columns.str.contains('Heridos Leves')]\n",
    "        # Sum values for each severity type\n",
    "        fallecidos_total.append(df[cols_fallecidos].sum().sum()) # Sum across columns and then across rows\n",
    "        heridos_graves_total.append(df[cols_heridos_graves].sum().sum())\n",
    "        heridos_leves_total.append(df[cols_heridos_leves].sum().sum())\n",
    "\n",
    "\n",
    "\n",
    "# Plot the severities over time\n",
    "plt.plot(years, fallecidos_total, label='Fallecidos')\n",
    "plt.plot(years, heridos_graves_total, label='Heridos Graves')\n",
    "plt.plot(years, heridos_leves_total, label='Heridos Leves')\n",
    "\n",
    "# Set the labels and title\n",
    "plt.xlabel('Año')\n",
    "plt.ylabel('Nº de accidentes y severidades')\n",
    "plt.title('Gráfica temporal sobre accidentes y severidades en España')\n",
    "\n",
    "# Add a legend\n",
    "plt.legend()\n",
    "\n",
    "# Show the plot\n",
    "plt.show()\n"
   ]
  },
  {
   "cell_type": "code",
   "execution_count": 9,
   "metadata": {},
   "outputs": [],
   "source": [
    "# Este paso asume que ya has combinado tus DataFrames en df_combined\n",
    "# Aquí hay un ejemplo de cómo podrías hacerlo si no lo has hecho aún\n",
    "df_combined = pd.concat([df2017, df2018, df2019, df2020, df2021, df2022])\n",
    "\n",
    "# Lista de tipos de vehículos\n",
    "vehicle_types = ['Bicicletas', 'Ciclomotores', 'Motocicletas', 'Turismos', 'Furgonetas', 'Camiones', 'Autobus', 'Otros', 'Peatones']\n",
    "\n",
    "# Inicializa un diccionario para almacenar los resultados\n",
    "accident_counts = {'Tipo de Vehículo': [], 'Fallecidos': [], 'Heridos Graves': [], 'Heridos Leves': []}\n",
    "\n",
    "# Llena el diccionario con los datos sumados\n",
    "for vehicle in vehicle_types:\n",
    "    accident_counts['Tipo de Vehículo'].append(vehicle)\n",
    "    accident_counts['Fallecidos'].append(df_combined.filter(like=f'{vehicle} Fallecidos').sum().sum())\n",
    "    accident_counts['Heridos Graves'].append(df_combined.filter(like=f'{vehicle} Heridos Graves').sum().sum())\n",
    "    accident_counts['Heridos Leves'].append(df_combined.filter(like=f'{vehicle} Heridos Leves').sum().sum())\n",
    "\n",
    "# Crea el DataFrame a partir del diccionario\n",
    "accident_summary_df = pd.DataFrame(accident_counts)\n",
    "\n",
    "# Establece 'Tipo de Vehículo' como el índice si lo prefieres\n",
    "accident_summary_df.set_index('Tipo de Vehículo', inplace=True)\n"
   ]
  },
  {
   "cell_type": "code",
   "execution_count": 10,
   "metadata": {},
   "outputs": [
    {
     "data": {
      "text/html": [
       "\n",
       "        <iframe\n",
       "            width=\"100%\"\n",
       "            height=\"650\"\n",
       "            src=\"http://127.0.0.1:8050/\"\n",
       "            frameborder=\"0\"\n",
       "            allowfullscreen\n",
       "            \n",
       "        ></iframe>\n",
       "        "
      ],
      "text/plain": [
       "<IPython.lib.display.IFrame at 0x2425f320a70>"
      ]
     },
     "metadata": {},
     "output_type": "display_data"
    }
   ],
   "source": [
    "import dash\n",
    "from dash import dcc, html\n",
    "from dash.dependencies import Input, Output\n",
    "import plotly.graph_objects as go\n",
    "import pandas as pd\n",
    "\n",
    "# Asumiendo que accident_summary_df es tu DataFrame y ya está definido\n",
    "# Si necesitas reconstruir el DataFrame, asegúrate de ejecutar el bloque de código anterior\n",
    "\n",
    "app = dash.Dash(__name__)\n",
    "\n",
    "app.layout = html.Div([\n",
    "    html.H1(\"Accidentes por Tipo de Vehículo y Severidad\"),\n",
    "    dcc.Dropdown(\n",
    "        id='severity-type-dropdown',\n",
    "        options=[\n",
    "            {'label': 'Fallecidos', 'value': 'Fallecidos'},\n",
    "            {'label': 'Heridos Graves', 'value': 'Heridos Graves'},\n",
    "            {'label': 'Heridos Leves', 'value': 'Heridos Leves'}\n",
    "        ],\n",
    "        value='Fallecidos',  # Valor predeterminado\n",
    "        clearable=False\n",
    "    ),\n",
    "    dcc.Graph(id='severity-vehicle-graph')\n",
    "])\n",
    "\n",
    "@app.callback(\n",
    "    Output('severity-vehicle-graph', 'figure'),\n",
    "    [Input('severity-type-dropdown', 'value')]\n",
    ")\n",
    "def update_graph(selected_severity):\n",
    "    filtered_data = accident_summary_df[selected_severity]\n",
    "    fig = go.Figure(data=[\n",
    "        go.Bar(\n",
    "            x=accident_summary_df.index, \n",
    "            y=filtered_data,\n",
    "            text=filtered_data,\n",
    "            textposition='auto'\n",
    "        )\n",
    "    ])\n",
    "    fig.update_layout(\n",
    "        title=f'Distribución de {selected_severity} por Tipo de Vehículo',\n",
    "        xaxis_title=\"Tipo de Vehículo\",\n",
    "        yaxis_title=\"Cantidad\",\n",
    "        hovermode=\"closest\"\n",
    "    )\n",
    "    return fig\n",
    "\n",
    "if __name__ == '__main__':\n",
    "    app.run_server(debug=True)\n"
   ]
  },
  {
   "cell_type": "code",
   "execution_count": 19,
   "metadata": {},
   "outputs": [
    {
     "ename": "ValueError",
     "evalue": "Value of 'hover_name' is not the name of a column in 'data_frame'. Expected one of ['Fallecidos', 'Heridos Graves', 'Heridos Leves', 'Tipo de Vehículo'] but received: Severidad",
     "output_type": "error",
     "traceback": [
      "\u001b[1;31m---------------------------------------------------------------------------\u001b[0m",
      "\u001b[1;31mValueError\u001b[0m                                Traceback (most recent call last)",
      "Cell \u001b[1;32mIn[19], line 15\u001b[0m\n\u001b[0;32m      1\u001b[0m \u001b[38;5;28;01mimport\u001b[39;00m \u001b[38;5;21;01mplotly\u001b[39;00m\u001b[38;5;21;01m.\u001b[39;00m\u001b[38;5;21;01mexpress\u001b[39;00m \u001b[38;5;28;01mas\u001b[39;00m \u001b[38;5;21;01mpx\u001b[39;00m\n\u001b[0;32m      3\u001b[0m \u001b[38;5;66;03m# Asumiendo que tienes un DataFrame df_accidents con las columnas 'Latitud', 'Longitud' y 'Severidad'\u001b[39;00m\n\u001b[0;32m      4\u001b[0m \u001b[38;5;66;03m# donde 'Severidad' podría ser 'Fallecidos', 'Heridos Graves' o 'Heridos Leves'.\u001b[39;00m\n\u001b[0;32m      5\u001b[0m \u001b[38;5;66;03m# Si no tienes este DataFrame, necesitarás transformar df_combined para crearlo.\u001b[39;00m\n\u001b[1;32m   (...)\u001b[0m\n\u001b[0;32m     13\u001b[0m \n\u001b[0;32m     14\u001b[0m \u001b[38;5;66;03m# Crear el mapa utilizando Plotly Express\u001b[39;00m\n\u001b[1;32m---> 15\u001b[0m fig \u001b[38;5;241m=\u001b[39m \u001b[43mpx\u001b[49m\u001b[38;5;241;43m.\u001b[39;49m\u001b[43mscatter_geo\u001b[49m\u001b[43m(\u001b[49m\u001b[43maccident_summary_df\u001b[49m\u001b[43m,\u001b[49m\n\u001b[0;32m     16\u001b[0m \u001b[43m                     \u001b[49m\u001b[43mlat\u001b[49m\u001b[38;5;241;43m=\u001b[39;49m\u001b[38;5;124;43m'\u001b[39;49m\u001b[38;5;124;43mLatitud\u001b[39;49m\u001b[38;5;124;43m'\u001b[39;49m\u001b[43m,\u001b[49m\n\u001b[0;32m     17\u001b[0m \u001b[43m                     \u001b[49m\u001b[43mlon\u001b[49m\u001b[38;5;241;43m=\u001b[39;49m\u001b[38;5;124;43m'\u001b[39;49m\u001b[38;5;124;43mLongitud\u001b[39;49m\u001b[38;5;124;43m'\u001b[39;49m\u001b[43m,\u001b[49m\n\u001b[0;32m     18\u001b[0m \u001b[43m                     \u001b[49m\u001b[43mcolor\u001b[49m\u001b[38;5;241;43m=\u001b[39;49m\u001b[38;5;124;43m'\u001b[39;49m\u001b[38;5;124;43mSeveridad\u001b[39;49m\u001b[38;5;124;43m'\u001b[39;49m\u001b[43m,\u001b[49m\u001b[43m  \u001b[49m\u001b[38;5;66;43;03m# Diferencia los puntos por severidad\u001b[39;49;00m\n\u001b[0;32m     19\u001b[0m \u001b[43m                     \u001b[49m\u001b[43mhover_name\u001b[49m\u001b[38;5;241;43m=\u001b[39;49m\u001b[38;5;124;43m'\u001b[39;49m\u001b[38;5;124;43mSeveridad\u001b[39;49m\u001b[38;5;124;43m'\u001b[39;49m\u001b[43m,\u001b[49m\u001b[43m  \u001b[49m\u001b[38;5;66;43;03m# Muestra la severidad al pasar el ratón por encima\u001b[39;49;00m\n\u001b[0;32m     20\u001b[0m \u001b[43m                     \u001b[49m\u001b[43mprojection\u001b[49m\u001b[38;5;241;43m=\u001b[39;49m\u001b[38;5;124;43m'\u001b[39;49m\u001b[38;5;124;43mnatural earth\u001b[39;49m\u001b[38;5;124;43m'\u001b[39;49m\u001b[43m,\u001b[49m\u001b[43m  \u001b[49m\u001b[38;5;66;43;03m# Elige el tipo de proyección del mapa\u001b[39;49;00m\n\u001b[0;32m     21\u001b[0m \u001b[43m                     \u001b[49m\u001b[43mtitle\u001b[49m\u001b[38;5;241;43m=\u001b[39;49m\u001b[38;5;124;43m'\u001b[39;49m\u001b[38;5;124;43mDistribución Geográfica de la Severidad de los Accidentes\u001b[39;49m\u001b[38;5;124;43m'\u001b[39;49m\u001b[43m)\u001b[49m\n\u001b[0;32m     23\u001b[0m fig\u001b[38;5;241m.\u001b[39mshow()\n",
      "File \u001b[1;32m~\\AppData\\Roaming\\Python\\Python312\\site-packages\\plotly\\express\\_chart_types.py:1148\u001b[0m, in \u001b[0;36mscatter_geo\u001b[1;34m(data_frame, lat, lon, locations, locationmode, geojson, featureidkey, color, text, symbol, facet_row, facet_col, facet_col_wrap, facet_row_spacing, facet_col_spacing, hover_name, hover_data, custom_data, size, animation_frame, animation_group, category_orders, labels, color_discrete_sequence, color_discrete_map, color_continuous_scale, range_color, color_continuous_midpoint, symbol_sequence, symbol_map, opacity, size_max, projection, scope, center, fitbounds, basemap_visible, title, template, width, height)\u001b[0m\n\u001b[0;32m   1101\u001b[0m \u001b[38;5;28;01mdef\u001b[39;00m \u001b[38;5;21mscatter_geo\u001b[39m(\n\u001b[0;32m   1102\u001b[0m     data_frame\u001b[38;5;241m=\u001b[39m\u001b[38;5;28;01mNone\u001b[39;00m,\n\u001b[0;32m   1103\u001b[0m     lat\u001b[38;5;241m=\u001b[39m\u001b[38;5;28;01mNone\u001b[39;00m,\n\u001b[1;32m   (...)\u001b[0m\n\u001b[0;32m   1142\u001b[0m     height\u001b[38;5;241m=\u001b[39m\u001b[38;5;28;01mNone\u001b[39;00m,\n\u001b[0;32m   1143\u001b[0m ) \u001b[38;5;241m-\u001b[39m\u001b[38;5;241m>\u001b[39m go\u001b[38;5;241m.\u001b[39mFigure:\n\u001b[0;32m   1144\u001b[0m \u001b[38;5;250m    \u001b[39m\u001b[38;5;124;03m\"\"\"\u001b[39;00m\n\u001b[0;32m   1145\u001b[0m \u001b[38;5;124;03m    In a geographic scatter plot, each row of `data_frame` is represented\u001b[39;00m\n\u001b[0;32m   1146\u001b[0m \u001b[38;5;124;03m    by a symbol mark on a map.\u001b[39;00m\n\u001b[0;32m   1147\u001b[0m \u001b[38;5;124;03m    \"\"\"\u001b[39;00m\n\u001b[1;32m-> 1148\u001b[0m     \u001b[38;5;28;01mreturn\u001b[39;00m \u001b[43mmake_figure\u001b[49m\u001b[43m(\u001b[49m\n\u001b[0;32m   1149\u001b[0m \u001b[43m        \u001b[49m\u001b[43margs\u001b[49m\u001b[38;5;241;43m=\u001b[39;49m\u001b[38;5;28;43mlocals\u001b[39;49m\u001b[43m(\u001b[49m\u001b[43m)\u001b[49m\u001b[43m,\u001b[49m\n\u001b[0;32m   1150\u001b[0m \u001b[43m        \u001b[49m\u001b[43mconstructor\u001b[49m\u001b[38;5;241;43m=\u001b[39;49m\u001b[43mgo\u001b[49m\u001b[38;5;241;43m.\u001b[39;49m\u001b[43mScattergeo\u001b[49m\u001b[43m,\u001b[49m\n\u001b[0;32m   1151\u001b[0m \u001b[43m        \u001b[49m\u001b[43mtrace_patch\u001b[49m\u001b[38;5;241;43m=\u001b[39;49m\u001b[38;5;28;43mdict\u001b[39;49m\u001b[43m(\u001b[49m\u001b[43mlocationmode\u001b[49m\u001b[38;5;241;43m=\u001b[39;49m\u001b[43mlocationmode\u001b[49m\u001b[43m)\u001b[49m\u001b[43m,\u001b[49m\n\u001b[0;32m   1152\u001b[0m \u001b[43m    \u001b[49m\u001b[43m)\u001b[49m\n",
      "File \u001b[1;32m~\\AppData\\Roaming\\Python\\Python312\\site-packages\\plotly\\express\\_core.py:2076\u001b[0m, in \u001b[0;36mmake_figure\u001b[1;34m(args, constructor, trace_patch, layout_patch)\u001b[0m\n\u001b[0;32m   2073\u001b[0m layout_patch \u001b[38;5;241m=\u001b[39m layout_patch \u001b[38;5;129;01mor\u001b[39;00m {}\n\u001b[0;32m   2074\u001b[0m apply_default_cascade(args)\n\u001b[1;32m-> 2076\u001b[0m args \u001b[38;5;241m=\u001b[39m \u001b[43mbuild_dataframe\u001b[49m\u001b[43m(\u001b[49m\u001b[43margs\u001b[49m\u001b[43m,\u001b[49m\u001b[43m \u001b[49m\u001b[43mconstructor\u001b[49m\u001b[43m)\u001b[49m\n\u001b[0;32m   2077\u001b[0m \u001b[38;5;28;01mif\u001b[39;00m constructor \u001b[38;5;129;01min\u001b[39;00m [go\u001b[38;5;241m.\u001b[39mTreemap, go\u001b[38;5;241m.\u001b[39mSunburst, go\u001b[38;5;241m.\u001b[39mIcicle] \u001b[38;5;129;01mand\u001b[39;00m args[\u001b[38;5;124m\"\u001b[39m\u001b[38;5;124mpath\u001b[39m\u001b[38;5;124m\"\u001b[39m] \u001b[38;5;129;01mis\u001b[39;00m \u001b[38;5;129;01mnot\u001b[39;00m \u001b[38;5;28;01mNone\u001b[39;00m:\n\u001b[0;32m   2078\u001b[0m     args \u001b[38;5;241m=\u001b[39m process_dataframe_hierarchy(args)\n",
      "File \u001b[1;32m~\\AppData\\Roaming\\Python\\Python312\\site-packages\\plotly\\express\\_core.py:1485\u001b[0m, in \u001b[0;36mbuild_dataframe\u001b[1;34m(args, constructor)\u001b[0m\n\u001b[0;32m   1482\u001b[0m     args[\u001b[38;5;124m\"\u001b[39m\u001b[38;5;124mcolor\u001b[39m\u001b[38;5;124m\"\u001b[39m] \u001b[38;5;241m=\u001b[39m \u001b[38;5;28;01mNone\u001b[39;00m\n\u001b[0;32m   1483\u001b[0m \u001b[38;5;66;03m# now that things have been prepped, we do the systematic rewriting of `args`\u001b[39;00m\n\u001b[1;32m-> 1485\u001b[0m df_output, wide_id_vars \u001b[38;5;241m=\u001b[39m \u001b[43mprocess_args_into_dataframe\u001b[49m\u001b[43m(\u001b[49m\n\u001b[0;32m   1486\u001b[0m \u001b[43m    \u001b[49m\u001b[43margs\u001b[49m\u001b[43m,\u001b[49m\u001b[43m \u001b[49m\u001b[43mwide_mode\u001b[49m\u001b[43m,\u001b[49m\u001b[43m \u001b[49m\u001b[43mvar_name\u001b[49m\u001b[43m,\u001b[49m\u001b[43m \u001b[49m\u001b[43mvalue_name\u001b[49m\n\u001b[0;32m   1487\u001b[0m \u001b[43m\u001b[49m\u001b[43m)\u001b[49m\n\u001b[0;32m   1489\u001b[0m \u001b[38;5;66;03m# now that `df_output` exists and `args` contains only references, we complete\u001b[39;00m\n\u001b[0;32m   1490\u001b[0m \u001b[38;5;66;03m# the special-case and wide-mode handling by further rewriting args and/or mutating\u001b[39;00m\n\u001b[0;32m   1491\u001b[0m \u001b[38;5;66;03m# df_output\u001b[39;00m\n\u001b[0;32m   1493\u001b[0m count_name \u001b[38;5;241m=\u001b[39m _escape_col_name(df_output, \u001b[38;5;124m\"\u001b[39m\u001b[38;5;124mcount\u001b[39m\u001b[38;5;124m\"\u001b[39m, [var_name, value_name])\n",
      "File \u001b[1;32m~\\AppData\\Roaming\\Python\\Python312\\site-packages\\plotly\\express\\_core.py:1210\u001b[0m, in \u001b[0;36mprocess_args_into_dataframe\u001b[1;34m(args, wide_mode, var_name, value_name)\u001b[0m\n\u001b[0;32m   1208\u001b[0m         \u001b[38;5;28;01mif\u001b[39;00m argument \u001b[38;5;241m==\u001b[39m \u001b[38;5;124m\"\u001b[39m\u001b[38;5;124mindex\u001b[39m\u001b[38;5;124m\"\u001b[39m:\n\u001b[0;32m   1209\u001b[0m             err_msg \u001b[38;5;241m+\u001b[39m\u001b[38;5;241m=\u001b[39m \u001b[38;5;124m\"\u001b[39m\u001b[38;5;130;01m\\n\u001b[39;00m\u001b[38;5;124m To use the index, pass it in directly as `df.index`.\u001b[39m\u001b[38;5;124m\"\u001b[39m\n\u001b[1;32m-> 1210\u001b[0m         \u001b[38;5;28;01mraise\u001b[39;00m \u001b[38;5;167;01mValueError\u001b[39;00m(err_msg)\n\u001b[0;32m   1211\u001b[0m \u001b[38;5;28;01melif\u001b[39;00m length \u001b[38;5;129;01mand\u001b[39;00m \u001b[38;5;28mlen\u001b[39m(df_input[argument]) \u001b[38;5;241m!=\u001b[39m length:\n\u001b[0;32m   1212\u001b[0m     \u001b[38;5;28;01mraise\u001b[39;00m \u001b[38;5;167;01mValueError\u001b[39;00m(\n\u001b[0;32m   1213\u001b[0m         \u001b[38;5;124m\"\u001b[39m\u001b[38;5;124mAll arguments should have the same length. \u001b[39m\u001b[38;5;124m\"\u001b[39m\n\u001b[0;32m   1214\u001b[0m         \u001b[38;5;124m\"\u001b[39m\u001b[38;5;124mThe length of column argument `df[\u001b[39m\u001b[38;5;132;01m%s\u001b[39;00m\u001b[38;5;124m]` is \u001b[39m\u001b[38;5;132;01m%d\u001b[39;00m\u001b[38;5;124m, whereas the \u001b[39m\u001b[38;5;124m\"\u001b[39m\n\u001b[1;32m   (...)\u001b[0m\n\u001b[0;32m   1221\u001b[0m         )\n\u001b[0;32m   1222\u001b[0m     )\n",
      "\u001b[1;31mValueError\u001b[0m: Value of 'hover_name' is not the name of a column in 'data_frame'. Expected one of ['Fallecidos', 'Heridos Graves', 'Heridos Leves', 'Tipo de Vehículo'] but received: Severidad"
     ]
    }
   ],
   "source": [
    "import plotly.express as px\n",
    "\n",
    "# Asumiendo que tienes un DataFrame df_accidents con las columnas 'Latitud', 'Longitud' y 'Severidad'\n",
    "# donde 'Severidad' podría ser 'Fallecidos', 'Heridos Graves' o 'Heridos Leves'.\n",
    "# Si no tienes este DataFrame, necesitarás transformar df_combined para crearlo.\n",
    "\n",
    "# Ejemplo de cómo podría verse df_accidents (debes crear este DataFrame basado en tus datos):\n",
    "# df_accidents = pd.DataFrame({\n",
    "#     'Latitud': [40.416775, 40.416775, 40.403879],\n",
    "#     'Longitud': [-3.703790, -3.703790, -3.692412],\n",
    "#     'Severidad': ['Fallecidos', 'Heridos Graves', 'Heridos Leves']\n",
    "# })\n",
    "\n",
    "# Crear el mapa utilizando Plotly Express\n",
    "fig = px.scatter_geo(accident_summary_df,\n",
    "                     lat='Latitud',\n",
    "                     lon='Longitud',\n",
    "                     color='Severidad',  # Diferencia los puntos por severidad\n",
    "                     hover_name='Severidad',  # Muestra la severidad al pasar el ratón por encima\n",
    "                     projection='natural earth',  # Elige el tipo de proyección del mapa\n",
    "                     title='Distribución Geográfica de la Severidad de los Accidentes')\n",
    "\n",
    "fig.show()\n"
   ]
  },
  {
   "cell_type": "code",
   "execution_count": 17,
   "metadata": {},
   "outputs": [
    {
     "data": {
      "text/plain": [
       "Index(['ï»¿CÃ³digo INE', 'Municipio', 'Provincia', 'Comunidad AutÃ³noma',\n",
       "       'Bicicletas Fallecidos', 'Bicicletas Heridos Graves',\n",
       "       'Bicicletas Heridos Leves', 'Ciclomotores Fallecidos',\n",
       "       'Ciclomotores Heridos Graves', 'Ciclomotores Heridos Leves',\n",
       "       'Motocicletas Fallecidos', 'Motocicletas Heridos Graves',\n",
       "       'Motocicletas Heridos Leves', 'Turismos Fallecidos',\n",
       "       'Turismos Heridos Graves', 'Turismos Heridos Leves',\n",
       "       'Furgonetas Fallecidos', 'Furgonetas Heridos Graves',\n",
       "       'Furgonetas Heridos Leves', 'Camiones Fallecidos',\n",
       "       'Camiones Heridos Graves', 'Camiones Heridos Leves',\n",
       "       'Autobus Fallecidos', 'Autobus Heridos Graves', 'Autobus Heridos Leves',\n",
       "       'Otros Fallecidos', 'Otros Heridos Graves', 'Otros Heridos Leves',\n",
       "       'Peatones Fallecidos', 'Peatones Heridos Graves',\n",
       "       'Peatones Heridos Leves', 'N Accidentes con Victimas', 'Fallecidos',\n",
       "       'Heridos Hospitalizados', 'Heridos no Hospitalizados', 'Unnamed: 35',\n",
       "       'Latitud', 'Longitud', 'Año'],\n",
       "      dtype='object')"
      ]
     },
     "execution_count": 17,
     "metadata": {},
     "output_type": "execute_result"
    }
   ],
   "source": [
    "df2017.columns"
   ]
  }
 ],
 "metadata": {
  "kernelspec": {
   "display_name": "Python 3",
   "language": "python",
   "name": "python3"
  },
  "language_info": {
   "codemirror_mode": {
    "name": "ipython",
    "version": 3
   },
   "file_extension": ".py",
   "mimetype": "text/x-python",
   "name": "python",
   "nbconvert_exporter": "python",
   "pygments_lexer": "ipython3",
   "version": "3.12.0"
  }
 },
 "nbformat": 4,
 "nbformat_minor": 2
}
